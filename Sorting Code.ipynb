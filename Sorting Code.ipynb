{
 "cells": [
  {
   "cell_type": "code",
   "execution_count": 1,
   "id": "c8c72367-2a3c-48b1-b894-a05b88026f21",
   "metadata": {},
   "outputs": [],
   "source": [
    "import pandas as pd"
   ]
  },
  {
   "cell_type": "code",
   "execution_count": 2,
   "id": "4612b2a6-a128-4a03-9c41-bccb79f5f1a7",
   "metadata": {},
   "outputs": [
    {
     "name": "stdout",
     "output_type": "stream",
     "text": [
      "    Name  Height  Weight  ShoeSize\n",
      "0   Aaaa     6.1      75         7\n",
      "1   Aaab     6.1      76         7\n",
      "2   Aaac     6.1      72         7\n",
      "3   Aaad     6.2      71         7\n",
      "4   Aaae     6.3      72         7\n",
      "5   Aaaf     6.4      73         7\n",
      "6   Aaag     6.5      74         7\n",
      "7   Aaah     6.1      75         8\n",
      "8   Aaai     6.1      76         8\n",
      "9   Aaaj     6.1      72         8\n",
      "10  Aaak     6.2      71         8\n",
      "11  Aaal     6.3      72         8\n",
      "12  Aaam     6.4      73         8\n",
      "13  Aaan     6.5      74         8\n"
     ]
    }
   ],
   "source": [
    "data = {\n",
    "    'Name' : ['Aaaa', 'Aaab',  'Aaac',  'Aaad',  'Aaae',  'Aaaf',  'Aaag',  'Aaah',  'Aaai',  'Aaaj',  'Aaak',  'Aaal',  'Aaam',  'Aaan'],\n",
    "    'Height' : [6.1, 6.1, 6.1, 6.2, 6.3, 6.4, 6.5, 6.1, 6.1, 6.1, 6.2, 6.3, 6.4, 6.5],\n",
    "    'Weight' : [75, 76, 72, 71, 72, 73, 74, 75, 76, 72, 71, 72, 73, 74],\n",
    "    'ShoeSize': [7, 7, 7, 7, 7, 7, 7, 8, 8, 8, 8, 8, 8, 8]\n",
    "}\n",
    "\n",
    "df = pd.DataFrame(data)\n",
    "print(df)"
   ]
  },
  {
   "cell_type": "markdown",
   "id": "c5a42450-2a16-437e-8f4b-021af187d404",
   "metadata": {
    "jp-MarkdownHeadingCollapsed": true
   },
   "source": [
    "### a) Write a python code to sort the above data based on shoe size first, followed by height and then weight. Achieve the assignment by using simple loops and comparisons. Do not use any existing Python functions for sorting data-sets."
   ]
  },
  {
   "cell_type": "markdown",
   "id": "981d3cc7-49ee-4e8c-ae94-9c7a122ce33a",
   "metadata": {},
   "source": [
    "## Bubble Sort"
   ]
  },
  {
   "cell_type": "code",
   "execution_count": 3,
   "id": "e4ff4eb2-175d-4ba8-ba17-50a56468cb69",
   "metadata": {},
   "outputs": [
    {
     "name": "stdout",
     "output_type": "stream",
     "text": [
      "    Name  Height  Weight  ShoeSize\n",
      "0   Aaaa     6.1      75         7\n",
      "1   Aaab     6.1      76         7\n",
      "2   Aaac     6.1      72         7\n",
      "3   Aaad     6.2      71         7\n",
      "4   Aaae     6.3      72         7\n",
      "5   Aaaf     6.4      73         7\n",
      "6   Aaag     6.5      74         7\n",
      "7   Aaah     6.1      75         8\n",
      "8   Aaai     6.1      76         8\n",
      "9   Aaaj     6.1      72         8\n",
      "10  Aaak     6.2      71         8\n",
      "11  Aaal     6.3      72         8\n",
      "12  Aaam     6.4      73         8\n",
      "13  Aaan     6.5      74         8\n",
      "\n",
      "    Name  Height  Weight  ShoeSize\n",
      "0   Aaaa     6.1      75         7\n",
      "1   Aaab     6.1      76         7\n",
      "2   Aaac     6.1      72         7\n",
      "3   Aaad     6.1      71         7\n",
      "4   Aaae     6.1      72         7\n",
      "5   Aaaf     6.1      73         7\n",
      "6   Aaag     6.2      74         7\n",
      "7   Aaah     6.2      75         8\n",
      "8   Aaai     6.3      76         8\n",
      "9   Aaaj     6.3      72         8\n",
      "10  Aaak     6.4      71         8\n",
      "11  Aaal     6.4      72         8\n",
      "12  Aaam     6.5      73         8\n",
      "13  Aaan     6.5      74         8\n",
      "\n",
      "    Name  Height  Weight  ShoeSize\n",
      "0   Aaaa     6.1      71         7\n",
      "1   Aaab     6.1      71         7\n",
      "2   Aaac     6.1      72         7\n",
      "3   Aaad     6.2      72         7\n",
      "4   Aaae     6.3      72         7\n",
      "5   Aaaf     6.4      72         7\n",
      "6   Aaag     6.5      73         7\n",
      "7   Aaah     6.1      73         8\n",
      "8   Aaai     6.1      74         8\n",
      "9   Aaaj     6.1      74         8\n",
      "10  Aaak     6.2      75         8\n",
      "11  Aaal     6.3      75         8\n",
      "12  Aaam     6.4      76         8\n",
      "13  Aaan     6.5      76         8\n",
      "\n"
     ]
    }
   ],
   "source": [
    "def bubble_sort(dataframe, column):\n",
    "    \"\"\"\n",
    "        from left towards right compare consectutive element, swap if it is wrong order. stops when no swaps occurs at the iteration.\n",
    "        each iteration, sorted array forms backwards in right end and unsorted array shrinks by size one.\n",
    "        o(n^2)\n",
    "    \"\"\"\n",
    "    dataframe = dataframe.copy()\n",
    "    n = len(dataframe)\n",
    "    for i in range(n-1):\n",
    "        swap = False\n",
    "        for j in range(n-i-1): #swap in shrinked unsorted array\n",
    "            if dataframe.loc[j,column] > dataframe.loc[j+1,column]:\n",
    "                dataframe.loc[j,column], dataframe.loc[j+1,column] = dataframe.loc[j+1,column], dataframe.loc[j,column]\n",
    "                swap = True\n",
    "        if not swap:\n",
    "            break\n",
    "    return dataframe\n",
    "\n",
    "print(bubble_sort(df, 'ShoeSize'))\n",
    "print()\n",
    "print(bubble_sort(df, 'Height'))\n",
    "print()\n",
    "print(bubble_sort(df, 'Weight'))\n",
    "print()"
   ]
  },
  {
   "cell_type": "markdown",
   "id": "608dc62e-200d-4b13-a46d-114ed14813e8",
   "metadata": {},
   "source": [
    "## Insertion Sort"
   ]
  },
  {
   "cell_type": "code",
   "execution_count": 4,
   "id": "da598c4c-0c18-42e7-a1c3-54531ec62389",
   "metadata": {},
   "outputs": [
    {
     "name": "stdout",
     "output_type": "stream",
     "text": [
      "    Name  Height  Weight  ShoeSize\n",
      "0   Aaaa     6.1      75         7\n",
      "1   Aaab     6.1      76         7\n",
      "2   Aaac     6.1      72         7\n",
      "3   Aaad     6.2      71         7\n",
      "4   Aaae     6.3      72         7\n",
      "5   Aaaf     6.4      73         7\n",
      "6   Aaag     6.5      74         7\n",
      "7   Aaah     6.1      75         8\n",
      "8   Aaai     6.1      76         8\n",
      "9   Aaaj     6.1      72         8\n",
      "10  Aaak     6.2      71         8\n",
      "11  Aaal     6.3      72         8\n",
      "12  Aaam     6.4      73         8\n",
      "13  Aaan     6.5      74         8\n",
      "\n",
      "    Name  Height  Weight  ShoeSize\n",
      "0   Aaaa     6.1      75         7\n",
      "1   Aaab     6.1      76         7\n",
      "2   Aaac     6.1      72         7\n",
      "3   Aaad     6.1      71         7\n",
      "4   Aaae     6.1      72         7\n",
      "5   Aaaf     6.1      73         7\n",
      "6   Aaag     6.2      74         7\n",
      "7   Aaah     6.2      75         8\n",
      "8   Aaai     6.3      76         8\n",
      "9   Aaaj     6.3      72         8\n",
      "10  Aaak     6.4      71         8\n",
      "11  Aaal     6.4      72         8\n",
      "12  Aaam     6.5      73         8\n",
      "13  Aaan     6.5      74         8\n",
      "\n",
      "    Name  Height  Weight  ShoeSize\n",
      "0   Aaaa     6.1      71         7\n",
      "1   Aaab     6.1      71         7\n",
      "2   Aaac     6.1      72         7\n",
      "3   Aaad     6.2      72         7\n",
      "4   Aaae     6.3      72         7\n",
      "5   Aaaf     6.4      72         7\n",
      "6   Aaag     6.5      73         7\n",
      "7   Aaah     6.1      73         8\n",
      "8   Aaai     6.1      74         8\n",
      "9   Aaaj     6.1      74         8\n",
      "10  Aaak     6.2      75         8\n",
      "11  Aaal     6.3      75         8\n",
      "12  Aaam     6.4      76         8\n",
      "13  Aaan     6.5      76         8\n",
      "\n"
     ]
    }
   ],
   "source": [
    "def insertion_sort(dataframe, column):\n",
    "    \"\"\"\n",
    "        starts with the first element sorted array and other elements are inserted in correct order in each lateral iteration one by one. \n",
    "        each iteration, uncompleted sorted array froms in left end and unsorted array shrinks by one.\n",
    "        o(n^2)\n",
    "    \"\"\"\n",
    "    dataframe = dataframe.copy()\n",
    "    n = len(dataframe)\n",
    "    for i in range(1,n):\n",
    "        temp = dataframe.loc[i, column]\n",
    "        for j in range(i): #to insert in left sorted array.\n",
    "            if dataframe.loc[j,column] > temp:\n",
    "                dataframe.loc[j,column], temp = temp, dataframe.loc[j,column]\n",
    "        dataframe.loc[j+1,column] = temp\n",
    "    return dataframe\n",
    "\n",
    "print(insertion_sort(df, 'ShoeSize'))\n",
    "print()\n",
    "print(insertion_sort(df, 'Height'))\n",
    "print()\n",
    "print(insertion_sort(df, 'Weight'))\n",
    "print()"
   ]
  },
  {
   "cell_type": "markdown",
   "id": "ba4bea01-ab8d-4d8d-b694-22c8d9f89026",
   "metadata": {},
   "source": [
    "## Selection Sort"
   ]
  },
  {
   "cell_type": "code",
   "execution_count": 5,
   "id": "74ba67dd-dcdb-4aef-8f31-d26daf1541f3",
   "metadata": {},
   "outputs": [
    {
     "name": "stdout",
     "output_type": "stream",
     "text": [
      "    Name  Height  Weight  ShoeSize\n",
      "0   Aaaa     6.1      75         7\n",
      "1   Aaab     6.1      76         7\n",
      "2   Aaac     6.1      72         7\n",
      "3   Aaad     6.2      71         7\n",
      "4   Aaae     6.3      72         7\n",
      "5   Aaaf     6.4      73         7\n",
      "6   Aaag     6.5      74         7\n",
      "7   Aaah     6.1      75         8\n",
      "8   Aaai     6.1      76         8\n",
      "9   Aaaj     6.1      72         8\n",
      "10  Aaak     6.2      71         8\n",
      "11  Aaal     6.3      72         8\n",
      "12  Aaam     6.4      73         8\n",
      "13  Aaan     6.5      74         8\n",
      "\n",
      "    Name  Height  Weight  ShoeSize\n",
      "0   Aaaa     6.1      75         7\n",
      "1   Aaab     6.1      76         7\n",
      "2   Aaac     6.1      72         7\n",
      "3   Aaad     6.1      71         7\n",
      "4   Aaae     6.1      72         7\n",
      "5   Aaaf     6.1      73         7\n",
      "6   Aaag     6.2      74         7\n",
      "7   Aaah     6.2      75         8\n",
      "8   Aaai     6.3      76         8\n",
      "9   Aaaj     6.3      72         8\n",
      "10  Aaak     6.4      71         8\n",
      "11  Aaal     6.4      72         8\n",
      "12  Aaam     6.5      73         8\n",
      "13  Aaan     6.5      74         8\n",
      "\n",
      "    Name  Height  Weight  ShoeSize\n",
      "0   Aaaa     6.1      71         7\n",
      "1   Aaab     6.1      71         7\n",
      "2   Aaac     6.1      72         7\n",
      "3   Aaad     6.2      72         7\n",
      "4   Aaae     6.3      72         7\n",
      "5   Aaaf     6.4      72         7\n",
      "6   Aaag     6.5      73         7\n",
      "7   Aaah     6.1      73         8\n",
      "8   Aaai     6.1      74         8\n",
      "9   Aaaj     6.1      74         8\n",
      "10  Aaak     6.2      75         8\n",
      "11  Aaal     6.3      75         8\n",
      "12  Aaam     6.4      76         8\n",
      "13  Aaan     6.5      76         8\n",
      "\n"
     ]
    }
   ],
   "source": [
    "def selection_sort(dataframe, column):\n",
    "    \"\"\"\n",
    "        starts from left to right to replace current element with lowest order element in unsorted array rightside.\n",
    "        each iteration, sorted array froms in left and unsorted array shrinks by size one.\n",
    "        o(n^2)\n",
    "    \"\"\"\n",
    "    dataframe = dataframe.copy()\n",
    "    n = len(dataframe)\n",
    "    for i in range(n-1):        \n",
    "        for j in range(i+1, n): #to replace the current with minimum valued element.\n",
    "            if dataframe.loc[i, column] > dataframe.loc[j,column]:\n",
    "                dataframe.loc[i,column], dataframe.loc[j,column] = dataframe.loc[j,column], dataframe.loc[i,column]\n",
    "    return dataframe\n",
    "\n",
    "print(selection_sort(df, 'ShoeSize'))\n",
    "print()\n",
    "print(selection_sort(df, 'Height'))\n",
    "print()\n",
    "print(selection_sort(df, 'Weight'))\n",
    "print()"
   ]
  },
  {
   "cell_type": "markdown",
   "id": "d727bf49-6284-4dae-bb9b-d5cb676a0cd2",
   "metadata": {},
   "source": [
    "## Appendix"
   ]
  },
  {
   "cell_type": "code",
   "execution_count": 6,
   "id": "95dfc66d-9b4e-41cd-836e-c5a2ab14f05e",
   "metadata": {},
   "outputs": [
    {
     "name": "stdout",
     "output_type": "stream",
     "text": [
      "1 \n",
      "\n",
      "2 \n",
      "\n",
      "3 \n",
      "\n"
     ]
    }
   ],
   "source": [
    "\"\"\"\n",
    "    a) pandas.DataFrame.loc[index, column_label]  \n",
    "\"\"\"\n",
    "\n",
    "example = pd.DataFrame({\n",
    "    'A': [1,2,3],\n",
    "    'B': [4,5,6],\n",
    "    'c': [7,8,9]\n",
    "})\n",
    "\n",
    "print(example.loc[0,'A'], '\\n')\n",
    "print(example.loc[1,'A'], '\\n')\n",
    "print(example.loc[2,'A'], '\\n')"
   ]
  }
 ],
 "metadata": {
  "kernelspec": {
   "display_name": "Python 3 (ipykernel)",
   "language": "python",
   "name": "python3"
  },
  "language_info": {
   "codemirror_mode": {
    "name": "ipython",
    "version": 3
   },
   "file_extension": ".py",
   "mimetype": "text/x-python",
   "name": "python",
   "nbconvert_exporter": "python",
   "pygments_lexer": "ipython3",
   "version": "3.12.4"
  }
 },
 "nbformat": 4,
 "nbformat_minor": 5
}
