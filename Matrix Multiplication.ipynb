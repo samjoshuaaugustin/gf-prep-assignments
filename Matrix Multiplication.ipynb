{
 "cells": [
  {
   "cell_type": "markdown",
   "id": "b82fb4db-101f-43f6-9be4-621a13a9da9a",
   "metadata": {},
   "source": [
    "### Write a python code to achieve matrix multiplication."
   ]
  },
  {
   "cell_type": "code",
   "execution_count": 1,
   "id": "a2088b36-b9a4-4304-af2a-7ad748d83eda",
   "metadata": {},
   "outputs": [],
   "source": [
    "def eq_cols(A):\n",
    "    \"\"\"\n",
    "        to check number of column elements in each row are equal\n",
    "    \"\"\"\n",
    "    rows = len(A)\n",
    "    for i in range(rows-1):\n",
    "        condition = len(A[i]) == len(A[i+1])\n",
    "    return condition"
   ]
  },
  {
   "cell_type": "code",
   "execution_count": 2,
   "id": "0e9c37e0-7eee-4abb-a9f1-cf236f7e75cf",
   "metadata": {},
   "outputs": [
    {
     "name": "stdout",
     "output_type": "stream",
     "text": [
      "True\n",
      "False\n"
     ]
    }
   ],
   "source": [
    "matrix1 = [\n",
    "    [1,2],\n",
    "    [3,4],\n",
    "    [4,5]\n",
    "] \n",
    "matrix2 = [\n",
    "    [1,2],\n",
    "    [3,4],\n",
    "    [4,5,6]\n",
    "] \n",
    "print(eq_cols(matrix1))\n",
    "print(eq_cols(matrix2))"
   ]
  },
  {
   "cell_type": "code",
   "execution_count": 3,
   "id": "0cb7c064-7715-4416-a095-d2490de030f6",
   "metadata": {},
   "outputs": [],
   "source": [
    "def check_dims(A,B):\n",
    "    \"\"\"\n",
    "        to check whether no of columns of A and no of rows in B is equal are not.\n",
    "    \"\"\"\n",
    "    condition = len(A[0]) == len(B)\n",
    "    return condition"
   ]
  },
  {
   "cell_type": "code",
   "execution_count": 4,
   "id": "ffd52583-2af7-4f18-9c24-d8e78484220e",
   "metadata": {},
   "outputs": [
    {
     "name": "stdout",
     "output_type": "stream",
     "text": [
      "True\n",
      "False\n",
      "True\n"
     ]
    }
   ],
   "source": [
    "matrix1 = [\n",
    "    [1,2],\n",
    "    [3,4],\n",
    "    [4,5]\n",
    "] \n",
    "matrix2 = [\n",
    "    [1,2,3],\n",
    "    [3,4,6]\n",
    "] \n",
    "matrix3 = [\n",
    "    [1,2],\n",
    "    [2,3]\n",
    "]\n",
    "\n",
    "print(check_dims(matrix1, matrix2))\n",
    "print(check_dims(matrix2, matrix3))\n",
    "print(check_dims(matrix1, matrix3))"
   ]
  },
  {
   "cell_type": "code",
   "execution_count": 5,
   "id": "828d5049-12f4-4f8d-af47-4234e0357b6a",
   "metadata": {},
   "outputs": [],
   "source": [
    "def matrix_multi(A,B):\n",
    "    \"\"\"\n",
    "        multiply matrix A with matrix B.\n",
    "    \"\"\"\n",
    "    if eq_cols(A) and eq_cols(B):\n",
    "        if check_dims(A,B):\n",
    "            matrix = []\n",
    "            for i in range(len(A)): #number of rows in result matrix equals no of rows in A\n",
    "                row = []\n",
    "                for j in range(len(B[0])): # number of columns in result matrix equals number of columns in B\n",
    "                    sumOfProd = 0\n",
    "                    for k in range(len(A[0])): # number of sum of products which equals to both number of columns of A and number of rows of B.\n",
    "                        sumOfProd += A[i][k] * B[k][j]\n",
    "                    row.append(sumOfProd)\n",
    "                matrix.append(row)\n",
    "            return matrix\n",
    "        else:\n",
    "            print(\"no of columns of A and no of rows in B are not equal\")\n",
    "    else:\n",
    "        print(\"number of elements in each row are not equal\")"
   ]
  },
  {
   "cell_type": "code",
   "execution_count": 6,
   "id": "de828c49-f1e6-4a50-9c79-23ece7c148ef",
   "metadata": {},
   "outputs": [
    {
     "name": "stdout",
     "output_type": "stream",
     "text": [
      "[[53, 62], [69, 80]]\n",
      "[[136, 380, 172], [215, 424, 386], [163, 371, 259]]\n",
      "[[58, 64], [139, 154]]\n"
     ]
    }
   ],
   "source": [
    "A = [\n",
    "    [3,7],\n",
    "    [4,9]\n",
    "]\n",
    "B = [\n",
    "    [6,2],\n",
    "    [5,8]\n",
    "]\n",
    "\n",
    "C=[\n",
    "    [12,8,4],\n",
    "    [3,17,14],\n",
    "    [9,8,10]\n",
    "]\n",
    "D=[\n",
    "    [5,19,3],\n",
    "    [6,15,9],\n",
    "    [7,8,16]\n",
    "]\n",
    "\n",
    "E=[\n",
    "    [1,2,3],\n",
    "    [4,5,6]\n",
    "]\n",
    "\n",
    "F=[\n",
    "    [7,8],\n",
    "    [9,10],\n",
    "    [11,12]\n",
    "]\n",
    "\n",
    "print(matrix_multi(A,B))\n",
    "print(matrix_multi(C,D))\n",
    "print(matrix_multi(E,F))"
   ]
  }
 ],
 "metadata": {
  "kernelspec": {
   "display_name": "Python 3 (ipykernel)",
   "language": "python",
   "name": "python3"
  },
  "language_info": {
   "codemirror_mode": {
    "name": "ipython",
    "version": 3
   },
   "file_extension": ".py",
   "mimetype": "text/x-python",
   "name": "python",
   "nbconvert_exporter": "python",
   "pygments_lexer": "ipython3",
   "version": "3.12.4"
  }
 },
 "nbformat": 4,
 "nbformat_minor": 5
}
